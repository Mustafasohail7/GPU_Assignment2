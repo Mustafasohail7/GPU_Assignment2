{
  "cells": [
    {
      "cell_type": "markdown",
      "metadata": {
        "id": "view-in-github",
        "colab_type": "text"
      },
      "source": [
        "<a href=\"https://colab.research.google.com/github/Mustafasohail7/GPU_Assignment2/blob/main/Assignment.ipynb\" target=\"_parent\"><img src=\"https://colab.research.google.com/assets/colab-badge.svg\" alt=\"Open In Colab\"/></a>"
      ]
    },
    {
      "cell_type": "markdown",
      "metadata": {
        "id": "RX8l8dJu61G1"
      },
      "source": [
        "# CS 432 GPU Accelerated Programming\n",
        "## Assignment 2\n"
      ]
    },
    {
      "cell_type": "markdown",
      "metadata": {
        "id": "VCiN1wGYNlij"
      },
      "source": [
        "\n",
        "\n",
        "```\n",
        "# This is formatted as code\n",
        "```\n",
        "\n",
        "#### Installing Eigen"
      ]
    },
    {
      "cell_type": "code",
      "execution_count": 1,
      "metadata": {
        "colab": {
          "base_uri": "https://localhost:8080/"
        },
        "id": "q4z6vYF3uFGr",
        "outputId": "e8755816-a60d-43e9-e8a4-0323cf1db335"
      },
      "outputs": [
        {
          "output_type": "stream",
          "name": "stdout",
          "text": [
            "Cloning into 'eigen'...\n",
            "remote: Enumerating objects: 124122, done.\u001b[K\n",
            "remote: Counting objects: 100% (276/276), done.\u001b[K\n",
            "remote: Compressing objects: 100% (127/127), done.\u001b[K\n",
            "remote: Total 124122 (delta 164), reused 242 (delta 149), pack-reused 123846\u001b[K\n",
            "Receiving objects: 100% (124122/124122), 104.99 MiB | 20.11 MiB/s, done.\n",
            "Resolving deltas: 100% (102781/102781), done.\n"
          ]
        }
      ],
      "source": [
        "!git clone https://gitlab.com/libeigen/eigen.git"
      ]
    },
    {
      "cell_type": "markdown",
      "metadata": {
        "id": "tnNvwk-xudsr"
      },
      "source": [
        "#### Downloading MNIST dataset:\n",
        "Next, we download the MNIST dataset from the github repository of our course."
      ]
    },
    {
      "cell_type": "code",
      "execution_count": 2,
      "metadata": {
        "colab": {
          "base_uri": "https://localhost:8080/"
        },
        "id": "cfWMzYFwQIKh",
        "outputId": "00f3dabc-b391-4889-a606-ad4ce7d38878"
      },
      "outputs": [
        {
          "output_type": "stream",
          "name": "stdout",
          "text": [
            "--2024-03-11 07:10:03--  https://github.com/mmmovania/CUDA_Spring_2024/raw/main/Assignment2/data/t10k-images-idx3-ubyte\n",
            "Resolving github.com (github.com)... 20.205.243.166\n",
            "Connecting to github.com (github.com)|20.205.243.166|:443... connected.\n",
            "HTTP request sent, awaiting response... 302 Found\n",
            "Location: https://raw.githubusercontent.com/mmmovania/CUDA_Spring_2024/main/Assignment2/data/t10k-images-idx3-ubyte [following]\n",
            "--2024-03-11 07:10:04--  https://raw.githubusercontent.com/mmmovania/CUDA_Spring_2024/main/Assignment2/data/t10k-images-idx3-ubyte\n",
            "Resolving raw.githubusercontent.com (raw.githubusercontent.com)... 185.199.108.133, 185.199.109.133, 185.199.110.133, ...\n",
            "Connecting to raw.githubusercontent.com (raw.githubusercontent.com)|185.199.108.133|:443... connected.\n",
            "HTTP request sent, awaiting response... 200 OK\n",
            "Length: 7840016 (7.5M) [application/octet-stream]\n",
            "Saving to: ‘data/t10k-images-idx3-ubyte’\n",
            "\n",
            "t10k-images-idx3-ub 100%[===================>]   7.48M  --.-KB/s    in 0.05s   \n",
            "\n",
            "2024-03-11 07:10:05 (163 MB/s) - ‘data/t10k-images-idx3-ubyte’ saved [7840016/7840016]\n",
            "\n",
            "--2024-03-11 07:10:05--  https://github.com/mmmovania/CUDA_Spring_2024/raw/main/Assignment2/data/t10k-labels-idx1-ubyte\n",
            "Resolving github.com (github.com)... 20.205.243.166\n",
            "Connecting to github.com (github.com)|20.205.243.166|:443... connected.\n",
            "HTTP request sent, awaiting response... 302 Found\n",
            "Location: https://raw.githubusercontent.com/mmmovania/CUDA_Spring_2024/main/Assignment2/data/t10k-labels-idx1-ubyte [following]\n",
            "--2024-03-11 07:10:05--  https://raw.githubusercontent.com/mmmovania/CUDA_Spring_2024/main/Assignment2/data/t10k-labels-idx1-ubyte\n",
            "Resolving raw.githubusercontent.com (raw.githubusercontent.com)... 185.199.108.133, 185.199.109.133, 185.199.110.133, ...\n",
            "Connecting to raw.githubusercontent.com (raw.githubusercontent.com)|185.199.108.133|:443... connected.\n",
            "HTTP request sent, awaiting response... 200 OK\n",
            "Length: 10008 (9.8K) [application/octet-stream]\n",
            "Saving to: ‘data/t10k-labels-idx1-ubyte’\n",
            "\n",
            "t10k-labels-idx1-ub 100%[===================>]   9.77K  --.-KB/s    in 0s      \n",
            "\n",
            "2024-03-11 07:10:06 (103 MB/s) - ‘data/t10k-labels-idx1-ubyte’ saved [10008/10008]\n",
            "\n",
            "--2024-03-11 07:10:06--  https://github.com/mmmovania/CUDA_Spring_2024/raw/main/Assignment2/data/train-images-idx3-ubyte\n",
            "Resolving github.com (github.com)... 20.205.243.166\n",
            "Connecting to github.com (github.com)|20.205.243.166|:443... connected.\n",
            "HTTP request sent, awaiting response... 302 Found\n",
            "Location: https://raw.githubusercontent.com/mmmovania/CUDA_Spring_2024/main/Assignment2/data/train-images-idx3-ubyte [following]\n",
            "--2024-03-11 07:10:06--  https://raw.githubusercontent.com/mmmovania/CUDA_Spring_2024/main/Assignment2/data/train-images-idx3-ubyte\n",
            "Resolving raw.githubusercontent.com (raw.githubusercontent.com)... 185.199.111.133, 185.199.109.133, 185.199.108.133, ...\n",
            "Connecting to raw.githubusercontent.com (raw.githubusercontent.com)|185.199.111.133|:443... connected.\n",
            "HTTP request sent, awaiting response... 200 OK\n",
            "Length: 47040016 (45M) [application/octet-stream]\n",
            "Saving to: ‘data/train-images-idx3-ubyte’\n",
            "\n",
            "train-images-idx3-u 100%[===================>]  44.86M  --.-KB/s    in 0.1s    \n",
            "\n",
            "2024-03-11 07:10:09 (375 MB/s) - ‘data/train-images-idx3-ubyte’ saved [47040016/47040016]\n",
            "\n",
            "--2024-03-11 07:10:09--  https://github.com/mmmovania/CUDA_Spring_2024/raw/main/Assignment2/data/train-labels-idx1-ubyte\n",
            "Resolving github.com (github.com)... 20.205.243.166\n",
            "Connecting to github.com (github.com)|20.205.243.166|:443... connected.\n",
            "HTTP request sent, awaiting response... 302 Found\n",
            "Location: https://raw.githubusercontent.com/mmmovania/CUDA_Spring_2024/main/Assignment2/data/train-labels-idx1-ubyte [following]\n",
            "--2024-03-11 07:10:10--  https://raw.githubusercontent.com/mmmovania/CUDA_Spring_2024/main/Assignment2/data/train-labels-idx1-ubyte\n",
            "Resolving raw.githubusercontent.com (raw.githubusercontent.com)... 185.199.111.133, 185.199.109.133, 185.199.108.133, ...\n",
            "Connecting to raw.githubusercontent.com (raw.githubusercontent.com)|185.199.111.133|:443... connected.\n",
            "HTTP request sent, awaiting response... 200 OK\n",
            "Length: 60008 (59K) [application/octet-stream]\n",
            "Saving to: ‘data/train-labels-idx1-ubyte’\n",
            "\n",
            "train-labels-idx1-u 100%[===================>]  58.60K  --.-KB/s    in 0.004s  \n",
            "\n",
            "2024-03-11 07:10:10 (13.1 MB/s) - ‘data/train-labels-idx1-ubyte’ saved [60008/60008]\n",
            "\n"
          ]
        }
      ],
      "source": [
        "!wget -P data/ -nc \"https://github.com/mmmovania/CUDA_Spring_2024/raw/main/Assignment2/data/t10k-images-idx3-ubyte\"\n",
        "!wget -P data/ -nc \"https://github.com/mmmovania/CUDA_Spring_2024/raw/main/Assignment2/data/t10k-labels-idx1-ubyte\"\n",
        "!wget -P data/ -nc \"https://github.com/mmmovania/CUDA_Spring_2024/raw/main/Assignment2/data/train-images-idx3-ubyte\"\n",
        "!wget -P data/ -nc \"https://github.com/mmmovania/CUDA_Spring_2024/raw/main/Assignment2/data/train-labels-idx1-ubyte\""
      ]
    },
    {
      "cell_type": "markdown",
      "metadata": {
        "id": "8Fy4qsNSRkea"
      },
      "source": [
        "#### Downloading the source code for this assignment:\n",
        "Next, we download the required source files from the github repository of Assignment 2."
      ]
    },
    {
      "cell_type": "code",
      "execution_count": 3,
      "metadata": {
        "colab": {
          "base_uri": "https://localhost:8080/"
        },
        "id": "kYSCHgmwRwca",
        "outputId": "95563e6d-c0aa-478c-cb5e-5b29be6b8a4f"
      },
      "outputs": [
        {
          "output_type": "stream",
          "name": "stdout",
          "text": [
            "--2024-03-11 07:10:14--  https://github.com/Mustafasohail7/GPU_Assignment2/blob/main/ActivationAndLossFunctions.h\n",
            "Resolving github.com (github.com)... 20.205.243.166\n",
            "Connecting to github.com (github.com)|20.205.243.166|:443... connected.\n",
            "HTTP request sent, awaiting response... 200 OK\n",
            "Length: 12943 (13K) [text/plain]\n",
            "Saving to: ‘src/ActivationAndLossFunctions.h’\n",
            "\n",
            "ActivationAndLossFu 100%[===================>]  12.64K  --.-KB/s    in 0.001s  \n",
            "\n",
            "2024-03-11 07:10:14 (9.85 MB/s) - ‘src/ActivationAndLossFunctions.h’ saved [12943/12943]\n",
            "\n",
            "--2024-03-11 07:10:14--  https://github.com/Mustafasohail7/GPU_Assignment2/blob/main/NeuralNetwork.h\n",
            "Resolving github.com (github.com)... 20.205.243.166\n",
            "Connecting to github.com (github.com)|20.205.243.166|:443... connected.\n",
            "HTTP request sent, awaiting response... 200 OK\n",
            "Length: 28987 (28K) [text/plain]\n",
            "Saving to: ‘src/NeuralNetwork.h’\n",
            "\n",
            "NeuralNetwork.h     100%[===================>]  28.31K  --.-KB/s    in 0.002s  \n",
            "\n",
            "2024-03-11 07:10:15 (18.2 MB/s) - ‘src/NeuralNetwork.h’ saved [28987/28987]\n",
            "\n",
            "--2024-03-11 07:10:15--  https://github.com/Mustafasohail7/GPU_Assignment2/blob/main/MNIST_Solver.cpp\n",
            "Resolving github.com (github.com)... 20.205.243.166\n",
            "Connecting to github.com (github.com)|20.205.243.166|:443... connected.\n",
            "HTTP request sent, awaiting response... 200 OK\n",
            "Length: 24968 (24K) [text/plain]\n",
            "Saving to: ‘src/MNIST_Solver.cpp’\n",
            "\n",
            "MNIST_Solver.cpp    100%[===================>]  24.38K  --.-KB/s    in 0.002s  \n",
            "\n",
            "2024-03-11 07:10:15 (14.8 MB/s) - ‘src/MNIST_Solver.cpp’ saved [24968/24968]\n",
            "\n",
            "--2024-03-11 07:10:15--  https://github.com/Mustafasohail7/GPU_Assignment2/blob/main/XOR_Solver.cpp\n",
            "Resolving github.com (github.com)... 20.205.243.166\n",
            "Connecting to github.com (github.com)|20.205.243.166|:443... connected.\n",
            "HTTP request sent, awaiting response... 200 OK\n",
            "Length: 8670 (8.5K) [text/plain]\n",
            "Saving to: ‘src/XOR_Solver.cpp’\n",
            "\n",
            "XOR_Solver.cpp      100%[===================>]   8.47K  --.-KB/s    in 0s      \n",
            "\n",
            "2024-03-11 07:10:16 (90.3 MB/s) - ‘src/XOR_Solver.cpp’ saved [8670/8670]\n",
            "\n",
            "--2024-03-11 07:10:16--  https://github.com/Mustafasohail7/GPU_Assignment2/blob/main/GPUNeuralNetwork.h\n",
            "Resolving github.com (github.com)... 20.205.243.166\n",
            "Connecting to github.com (github.com)|20.205.243.166|:443... connected.\n",
            "HTTP request sent, awaiting response... 200 OK\n",
            "Length: 29694 (29K) [text/plain]\n",
            "Saving to: ‘src/GPUNeuralNetwork.h’\n",
            "\n",
            "GPUNeuralNetwork.h  100%[===================>]  29.00K  --.-KB/s    in 0.002s  \n",
            "\n",
            "2024-03-11 07:10:16 (14.9 MB/s) - ‘src/GPUNeuralNetwork.h’ saved [29694/29694]\n",
            "\n",
            "--2024-03-11 07:10:16--  https://github.com/Mustafasohail7/GPU_Assignment2/blob/main/GPUMatrixFunctions.cu\n",
            "Resolving github.com (github.com)... 20.205.243.166\n",
            "Connecting to github.com (github.com)|20.205.243.166|:443... connected.\n",
            "HTTP request sent, awaiting response... 200 OK\n",
            "Length: 25847 (25K) [text/plain]\n",
            "Saving to: ‘src/GPUMatrixFunctions.cu’\n",
            "\n",
            "GPUMatrixFunctions. 100%[===================>]  25.24K  --.-KB/s    in 0.002s  \n",
            "\n",
            "2024-03-11 07:10:16 (12.7 MB/s) - ‘src/GPUMatrixFunctions.cu’ saved [25847/25847]\n",
            "\n",
            "--2024-03-11 07:10:16--  https://github.com/Mustafasohail7/GPU_Assignment2/blob/main/GPU_MNIST_Solver.cpp\n",
            "Resolving github.com (github.com)... 20.205.243.166\n",
            "Connecting to github.com (github.com)|20.205.243.166|:443... connected.\n",
            "HTTP request sent, awaiting response... 200 OK\n",
            "Length: 24745 (24K) [text/plain]\n",
            "Saving to: ‘src/GPU_MNIST_Solver.cpp’\n",
            "\n",
            "GPU_MNIST_Solver.cp 100%[===================>]  24.17K  --.-KB/s    in 0.001s  \n",
            "\n",
            "2024-03-11 07:10:17 (19.9 MB/s) - ‘src/GPU_MNIST_Solver.cpp’ saved [24745/24745]\n",
            "\n",
            "--2024-03-11 07:10:17--  https://github.com/Mustafasohail7/GPU_Assignment2/blob/main/GPU_XOR_Solver.cpp\n",
            "Resolving github.com (github.com)... 20.205.243.166\n",
            "Connecting to github.com (github.com)|20.205.243.166|:443... connected.\n",
            "HTTP request sent, awaiting response... 200 OK\n",
            "Length: 9086 (8.9K) [text/plain]\n",
            "Saving to: ‘src/GPU_XOR_Solver.cpp’\n",
            "\n",
            "GPU_XOR_Solver.cpp  100%[===================>]   8.87K  --.-KB/s    in 0s      \n",
            "\n",
            "2024-03-11 07:10:17 (90.1 MB/s) - ‘src/GPU_XOR_Solver.cpp’ saved [9086/9086]\n",
            "\n"
          ]
        }
      ],
      "source": [
        "!wget -P src/ -nc \"https://github.com/Mustafasohail7/GPU_Assignment2/blob/main/ActivationAndLossFunctions.h\"\n",
        "!wget -P src/ -nc \"https://github.com/Mustafasohail7/GPU_Assignment2/blob/main/NeuralNetwork.h\"\n",
        "!wget -P src/ -nc \"https://github.com/Mustafasohail7/GPU_Assignment2/blob/main/MNIST_Solver.cpp\"\n",
        "!wget -P src/ -nc \"https://github.com/Mustafasohail7/GPU_Assignment2/blob/main/XOR_Solver.cpp\"\n",
        "!wget -P src/ -nc \"https://github.com/Mustafasohail7/GPU_Assignment2/blob/main/GPUNeuralNetwork.h\"\n",
        "!wget -P src/ -nc \"https://github.com/Mustafasohail7/GPU_Assignment2/blob/main/GPUMatrixFunctions.cu\"\n",
        "!wget -P src/ -nc \"https://github.com/Mustafasohail7/GPU_Assignment2/blob/main/GPU_MNIST_Solver.cpp\"\n",
        "!wget -P src/ -nc \"https://github.com/Mustafasohail7/GPU_Assignment2/blob/main/GPU_XOR_Solver.cpp\""
      ]
    },
    {
      "cell_type": "markdown",
      "metadata": {
        "id": "Nx-Q7NFtoIs7"
      },
      "source": [
        "### GPU Implementation"
      ]
    },
    {
      "cell_type": "markdown",
      "metadata": {
        "id": "FgRGPFCJoOFm"
      },
      "source": [
        "#### XOR Solver using GPU"
      ]
    },
    {
      "cell_type": "code",
      "execution_count": 5,
      "metadata": {
        "colab": {
          "base_uri": "https://localhost:8080/"
        },
        "id": "8WdAiilthbyB",
        "outputId": "e77034c5-3576-4691-a20c-efb1e7b0d20a"
      },
      "outputs": [
        {
          "output_type": "stream",
          "name": "stdout",
          "text": [
            "nvcc fatal   : Don't know what to do with 'GPU_XOR_Solver'\n",
            "/bin/bash: line 1: ./GPU_XOR_Solver: No such file or directory\n"
          ]
        }
      ],
      "source": [
        "!nvcc src/GPU_XOR_Solver.cpp src/GPUMatrixFunctions GPU_XOR_Solver --disable-warnings\n",
        "!./GPU_XOR_Solver"
      ]
    },
    {
      "cell_type": "markdown",
      "metadata": {
        "id": "1rofRhV6oRrY"
      },
      "source": [
        "#### MNIST Solver using GPU"
      ]
    },
    {
      "cell_type": "code",
      "execution_count": null,
      "metadata": {
        "colab": {
          "base_uri": "https://localhost:8080/"
        },
        "id": "Zt2k07T6IY81",
        "outputId": "82b21471-64fd-4449-a2ad-bd84f9306443"
      },
      "outputs": [
        {
          "name": "stdout",
          "output_type": "stream",
          "text": [
            "Rows: 28, Cols: 28\n",
            "Using Eigen ver: 3.4.90\n",
            "x_train[60000,784]\n",
            "y_train[60000,10]\n",
            "Samples: 1000\n",
            "x_train[1000,784]\n",
            "y_train[1000,10]\n",
            "Epoch 1/35 error = 0.208872\n",
            "Epoch 2/35 error = 0.100199\n",
            "Epoch 3/35 error = 0.0777845\n",
            "Epoch 4/35 error = 0.0631736\n",
            "Epoch 5/35 error = 0.0538043\n",
            "Epoch 6/35 error = 0.0458572\n",
            "Epoch 7/35 error = 0.0396098\n",
            "Epoch 8/35 error = 0.0354885\n",
            "Epoch 9/35 error = 0.0318486\n",
            "Epoch 10/35 error = 0.0296671\n",
            "Epoch 11/35 error = 0.0265437\n",
            "Epoch 12/35 error = 0.0246655\n",
            "Epoch 13/35 error = 0.0222104\n",
            "Epoch 14/35 error = 0.0206874\n",
            "Epoch 15/35 error = 0.0181652\n",
            "Epoch 16/35 error = 0.0163757\n",
            "Epoch 17/35 error = 0.0153376\n",
            "Epoch 18/35 error = 0.0140618\n",
            "Epoch 19/35 error = 0.0136381\n",
            "Epoch 20/35 error = 0.0126689\n",
            "Epoch 21/35 error = 0.012064\n",
            "Epoch 22/35 error = 0.0115087\n",
            "Epoch 23/35 error = 0.0110802\n",
            "Epoch 24/35 error = 0.0104355\n",
            "Epoch 25/35 error = 0.0101787\n",
            "Epoch 26/35 error = 0.00978887\n",
            "Epoch 27/35 error = 0.00914952\n",
            "Epoch 28/35 error = 0.00896471\n",
            "Epoch 29/35 error = 0.00865474\n",
            "Epoch 30/35 error = 0.00851978\n",
            "Epoch 31/35 error = 0.00823275\n",
            "Epoch 32/35 error = 0.00807907\n",
            "Epoch 33/35 error = 0.00783415\n",
            "Epoch 34/35 error = 0.00766699\n",
            "Epoch 35/35 error = 0.00746513\n",
            "Predicted values: \n",
            "7 6 1 \n",
            "True values: \n",
            "7 2 1 Using Eigen ver: 3.4.90\n",
            "x_train[60000,784]\n",
            "y_train[60000,10]\n",
            "Samples: 1000\n",
            "x_train[1000,784]\n",
            "y_train[1000,10]\n",
            "Epoch 1/35 error = 0.218737\n",
            "Epoch 2/35 error = 0.0971223\n",
            "Epoch 3/35 error = 0.0758495\n",
            "Epoch 4/35 error = 0.064524\n",
            "Epoch 5/35 error = 0.0555569\n",
            "Epoch 6/35 error = 0.0503342\n",
            "Epoch 7/35 error = 0.0432057\n",
            "Epoch 8/35 error = 0.0390303\n",
            "Epoch 9/35 error = 0.0352658\n",
            "Epoch 10/35 error = 0.0322915\n",
            "Epoch 11/35 error = 0.029225\n",
            "Epoch 12/35 error = 0.0274058\n",
            "Epoch 13/35 error = 0.0256959\n",
            "Epoch 14/35 error = 0.023728\n",
            "Epoch 15/35 error = 0.0224287\n",
            "Epoch 16/35 error = 0.0215022\n",
            "Epoch 17/35 error = 0.0202697\n",
            "Epoch 18/35 error = 0.0187634\n",
            "Epoch 19/35 error = 0.0180655\n",
            "Epoch 20/35 error = 0.0173576\n",
            "Epoch 21/35 error = 0.0164044\n",
            "Epoch 22/35 error = 0.0158553\n",
            "Epoch 23/35 error = 0.014814\n",
            "Epoch 24/35 error = 0.014367\n",
            "Epoch 25/35 error = 0.0138414\n",
            "Epoch 26/35 error = 0.0130899\n",
            "Epoch 27/35 error = 0.0126078\n",
            "Epoch 28/35 error = 0.0120977\n",
            "Epoch 29/35 error = 0.0118194\n",
            "Epoch 30/35 error = 0.0111526\n",
            "Epoch 31/35 error = 0.0106312\n",
            "Epoch 32/35 error = 0.0102899\n",
            "Epoch 33/35 error = 0.0100411\n",
            "Epoch 34/35 error = 0.00948935\n",
            "Epoch 35/35 error = 0.00917279\n",
            "Predicted values: \n",
            "7 9 1 \n",
            "True values: \n",
            "7 2 1 Using Eigen ver: 3.4.90\n",
            "x_train[60000,784]\n",
            "y_train[60000,10]\n",
            "Samples: 1000\n",
            "x_train[1000,784]\n",
            "y_train[1000,10]\n",
            "Epoch 1/35 error = 0.232364\n",
            "Epoch 2/35 error = 0.108914\n",
            "Epoch 3/35 error = 0.0928321\n",
            "Epoch 4/35 error = 0.0789036\n",
            "Epoch 5/35 error = 0.0671768\n",
            "Epoch 6/35 error = 0.0591934\n",
            "Epoch 7/35 error = 0.0515321\n",
            "Epoch 8/35 error = 0.0461974\n",
            "Epoch 9/35 error = 0.0412451\n",
            "Epoch 10/35 error = 0.036669\n",
            "Epoch 11/35 error = 0.0318379\n",
            "Epoch 12/35 error = 0.0277755\n",
            "Epoch 13/35 error = 0.025128\n",
            "Epoch 14/35 error = 0.0223806\n",
            "Epoch 15/35 error = 0.0200972\n",
            "Epoch 16/35 error = 0.0183951\n",
            "Epoch 17/35 error = 0.0166692\n",
            "Epoch 18/35 error = 0.0161514\n",
            "Epoch 19/35 error = 0.0151333\n",
            "Epoch 20/35 error = 0.0143304\n",
            "Epoch 21/35 error = 0.0135123\n",
            "Epoch 22/35 error = 0.0131943\n",
            "Epoch 23/35 error = 0.0123054\n",
            "Epoch 24/35 error = 0.0119995\n",
            "Epoch 25/35 error = 0.0115861\n",
            "Epoch 26/35 error = 0.0109806\n",
            "Epoch 27/35 error = 0.0104108\n",
            "Epoch 28/35 error = 0.0103064\n",
            "Epoch 29/35 error = 0.00993501\n",
            "Epoch 30/35 error = 0.00959147\n",
            "Epoch 31/35 error = 0.0093747\n",
            "Epoch 32/35 error = 0.00919294\n",
            "Epoch 33/35 error = 0.00868914\n",
            "Epoch 34/35 error = 0.00877557\n",
            "Epoch 35/35 error = 0.00830399\n",
            "Predicted values: \n",
            "7 3 1 \n",
            "True values: \n",
            "7 2 1 "
          ]
        }
      ],
      "source": [
        "!nvcc src/CUDA_MNIST_Solver.cpp src/cudaHelper.cu -I./eigen -o CUDA_MNIST_Solver --disable-warnings\n",
        "!./CUDA_MNIST_Solver"
      ]
    }
  ],
  "metadata": {
    "accelerator": "GPU",
    "colab": {
      "provenance": [],
      "include_colab_link": true
    },
    "kernelspec": {
      "display_name": "Python 3",
      "name": "python3"
    },
    "language_info": {
      "name": "python"
    }
  },
  "nbformat": 4,
  "nbformat_minor": 0
}